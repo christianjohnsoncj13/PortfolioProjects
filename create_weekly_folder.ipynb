{
 "cells": [
  {
   "cell_type": "code",
   "execution_count": 1,
   "metadata": {},
   "outputs": [],
   "source": [
    "import os\n",
    "import datetime"
   ]
  },
  {
   "cell_type": "code",
   "execution_count": null,
   "metadata": {},
   "outputs": [],
   "source": [
    "def get_monday_of_current_week():\n",
    "    today = datetime.date.today()\n",
    "    monday = today - datetime.timedelta(days=today.weekday())\n",
    "    return monday.strftime(\"%#m.%d.%y\")\n",
    "\n",
    "def create_weekly_folders(base_paths):\n",
    "    week_folder_name = f\"Week of {get_monday_of_current_week()} - Test\"\n",
    "    \n",
    "    for path in base_paths:\n",
    "        folder_path = os.path.join(path, week_folder_name)\n",
    "        \n",
    "        try:\n",
    "            os.makedirs(folder_path, exist_ok=True)\n",
    "            print(f\"Created or already exists: {folder_path}\")\n",
    "        except Exception as e:\n",
    "            print(f\"Error creating folder {folder_path}: {e}\")\n",
    "\n",
    "\n",
    "base_paths = [\n",
    "    r\"Z:\\Shared\\Mediahub\\_Clients\\UltaBeauty\\Analytics\\UBM Reporting\\Reports to Post\\Biweekly Reports\\Global Meta Biweekly Reports\\2025\",\n",
    "   # r\"Z:\\Shared\\Mediahub\\_Clients\\UltaBeauty\\Analytics\\UBM Reporting\\Reports to Post\\Biweekly Reports\\Global Offsite Display Biweekly Reports\\2025\",\n",
    "   # r\"Z:\\Shared\\Mediahub\\_Clients\\UltaBeauty\\Analytics\\UBM Reporting\\Reports to Post\\Biweekly Reports\\Global Social Basket Biweekly Reports\\2025\",\n",
    "   # r\"Z:\\Shared\\Mediahub\\_Clients\\UltaBeauty\\Analytics\\UBM Reporting\\Reports to Post\\Biweekly Reports\\LUSA Meta Biweekly Reports\\2025\",\n",
    "   # r\"Z:\\Shared\\Mediahub\\_Clients\\UltaBeauty\\Analytics\\UBM Reporting\\Reports to Post\\Biweekly Reports\\LUSA Offsite Display Biweekly Reports\\2025\",\n",
    "   # r\"Z:\\Shared\\Mediahub\\_Clients\\UltaBeauty\\Analytics\\UBM Reporting\\Reports to Post\\Biweekly Reports\\LUSA Social Basket Biweekly Reports\\2025\",\n",
    "   # r\"Z:\\Shared\\Mediahub\\_Clients\\UltaBeauty\\Analytics\\UBM Reporting\\Reports to Post\\End of Campaign Reports\\Global Meta EOC Reports\\2025\",\n",
    "   # r\"Z:\\Shared\\Mediahub\\_Clients\\UltaBeauty\\Analytics\\UBM Reporting\\Reports to Post\\End of Campaign Reports\\Global Multi Channel EOC Reports\\2025\",\n",
    "   # r\"Z:\\Shared\\Mediahub\\_Clients\\UltaBeauty\\Analytics\\UBM Reporting\\Reports to Post\\End of Campaign Reports\\Global Offsite Display EOC Reports\\2025\",\n",
    "   # r\"Z:\\Shared\\Mediahub\\_Clients\\UltaBeauty\\Analytics\\UBM Reporting\\Reports to Post\\End of Campaign Reports\\Global Onsite Display EOC Reports\\2025\",\n",
    "   # r\"Z:\\Shared\\Mediahub\\_Clients\\UltaBeauty\\Analytics\\UBM Reporting\\Reports to Post\\End of Campaign Reports\\Global Social Basket EOC Reports\\2025\",\n",
    "   # r\"Z:\\Shared\\Mediahub\\_Clients\\UltaBeauty\\Analytics\\UBM Reporting\\Reports to Post\\End of Campaign Reports\\LUSA Meta EOC Reports\\2025\",\n",
    "   # r\"Z:\\Shared\\Mediahub\\_Clients\\UltaBeauty\\Analytics\\UBM Reporting\\Reports to Post\\End of Campaign Reports\\LUSA Multi Channel EOC Reports\\2025\",\n",
    "   # r\"Z:\\Shared\\Mediahub\\_Clients\\UltaBeauty\\Analytics\\UBM Reporting\\Reports to Post\\End of Campaign Reports\\LUSA Offsite Display EOC Reports\\2025\",\n",
    "   # r\"Z:\\Shared\\Mediahub\\_Clients\\UltaBeauty\\Analytics\\UBM Reporting\\Reports to Post\\End of Campaign Reports\\LUSA Onsite Display EOC Reports\\2025\",\n",
    "   # r\"Z:\\Shared\\Mediahub\\_Clients\\UltaBeauty\\Analytics\\UBM Reporting\\Reports to Post\\End of Campaign Reports\\LUSA Social Basket EOC Reports\\2025\",\n",
    "   # r\"Z:\\Shared\\Mediahub\\_Clients\\UltaBeauty\\Analytics\\UBM Reporting\\Reports to Post\\Mid Campaign Reports\\Global Onsite Display Mid Campaign Reports\\2025\",\n",
    "   # r\"Z:\\Shared\\Mediahub\\_Clients\\UltaBeauty\\Analytics\\UBM Reporting\\Reports to Post\\Mid Campaign Reports\\LUSA Onsite Display Mid Campaign Reports\\2025\"\n",
    "]\n"
   ]
  },
  {
   "cell_type": "code",
   "execution_count": 23,
   "metadata": {},
   "outputs": [
    {
     "name": "stdout",
     "output_type": "stream",
     "text": [
      "Created or already exists: Z:\\Shared\\Mediahub\\_Clients\\UltaBeauty\\Analytics\\UBM Reporting\\Reports to Post\\Biweekly Reports\\Global Meta Biweekly Reports\\2025\\Week of 3.24.25 - Test\n"
     ]
    }
   ],
   "source": [
    "create_weekly_folders(base_paths)"
   ]
  }
 ],
 "metadata": {
  "kernelspec": {
   "display_name": "base",
   "language": "python",
   "name": "python3"
  },
  "language_info": {
   "codemirror_mode": {
    "name": "ipython",
    "version": 3
   },
   "file_extension": ".py",
   "mimetype": "text/x-python",
   "name": "python",
   "nbconvert_exporter": "python",
   "pygments_lexer": "ipython3",
   "version": "3.12.4"
  }
 },
 "nbformat": 4,
 "nbformat_minor": 2
}
